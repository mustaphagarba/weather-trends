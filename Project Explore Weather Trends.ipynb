{
 "cells": [
  {
   "cell_type": "markdown",
   "metadata": {},
   "source": [
    "# Project 1 - Explore Weather Trends\n",
    "\n",
    "This notebook/PDF is the first submission by Mustapha Muhammad Garba for the Udacity Data Analyst Nanodegree. It's an exploration and comparison of global weather data as it compares to the city I'm currently in while doing this comparison: Abuja, Nigeria. Aside from the SQL query to extract the data to CSV, which I did on the Udacity interface, everything in this work was done with Python libraries:\n",
    "\n",
    "- pandas for extracting the data from csv into dataframe, and calculating the moving averages\n",
    "- matplotlib to plot the line charts\n",
    "- nbconvert to export the notebook to PDF\n",
    "\n",
    "The notebook itself I will also upload to GitHub at https://github.com/mustaphagarba/weather-trends\n",
    "\n"
   ]
  },
  {
   "cell_type": "code",
   "execution_count": 1,
   "metadata": {},
   "outputs": [],
   "source": [
    "#import necessary libraries\n",
    "\n",
    "import pandas as pd\n",
    "import matplotlib.pyplot as plt"
   ]
  },
  {
   "cell_type": "markdown",
   "metadata": {},
   "source": [
    "## SQL Code\n",
    "\n",
    "In the Udacity interface I used the following SQL queries to obtain the data used in this notebook:\n",
    "\n",
    "- SELECT * FROM global_data;\n",
    "- SELECT * FROM city_data WHERE city = \"Abuja\";\n",
    "\n",
    "I downloaded as CSV after each query evaluation"
   ]
  },
  {
   "cell_type": "code",
   "execution_count": 3,
   "metadata": {},
   "outputs": [
    {
     "name": "stdout",
     "output_type": "stream",
     "text": [
      "   year  avg_temp\n",
      "0  1750      8.72\n",
      "1  1751      7.98\n",
      "2  1752      5.78\n",
      "3  1753      8.39\n",
      "4  1754      8.47\n",
      "\n",
      "\n",
      "   year   city  country  avg_temp\n",
      "0  1856  Abuja  Nigeria     26.93\n",
      "1  1857  Abuja  Nigeria     24.67\n",
      "2  1858  Abuja  Nigeria     25.87\n",
      "3  1859  Abuja  Nigeria     25.31\n",
      "4  1860  Abuja  Nigeria     25.52\n"
     ]
    }
   ],
   "source": [
    "globalvar = pd.read_csv('global_data.csv')\n",
    "abujavar = pd.read_csv('abuja_data.csv')\n",
    "\n",
    "print(globalvar.head())\n",
    "\n",
    "print(\"\\n\")\n",
    "\n",
    "print(abujavar.head())"
   ]
  },
  {
   "cell_type": "markdown",
   "metadata": {},
   "source": [
    "Let's quickly plot year against temperature for both the world at large and Abuja in particular, and see how "
   ]
  }
 ],
 "metadata": {
  "kernelspec": {
   "display_name": "Python 3",
   "language": "python",
   "name": "python3"
  },
  "language_info": {
   "codemirror_mode": {
    "name": "ipython",
    "version": 3
   },
   "file_extension": ".py",
   "mimetype": "text/x-python",
   "name": "python",
   "nbconvert_exporter": "python",
   "pygments_lexer": "ipython3",
   "version": "3.7.3"
  }
 },
 "nbformat": 4,
 "nbformat_minor": 2
}
